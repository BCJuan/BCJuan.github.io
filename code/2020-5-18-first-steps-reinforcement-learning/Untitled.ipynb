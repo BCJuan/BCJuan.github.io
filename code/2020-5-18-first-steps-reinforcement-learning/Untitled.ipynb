{
 "cells": [
  {
   "cell_type": "code",
   "execution_count": 5,
   "metadata": {},
   "outputs": [],
   "source": [
    "import gym\n",
    "import matplotlib.pyplot as plt\n",
    "%matplotlib inline"
   ]
  },
  {
   "cell_type": "code",
   "execution_count": 6,
   "metadata": {},
   "outputs": [
    {
     "data": {
      "image/png": "[encoded data removed]",
      "text/plain": [
       "<Figure size 432x288 with 1 Axes>"
      ]
     },
     "metadata": {
      "needs_background": "light"
     },
     "output_type": "display_data"
    }
   ],
   "source": [
    "env = gym.make('MountainCar-v0')\n",
    "env.reset()\n",
    "plt.imshow(env.render('rgb_array'))\n",
    "env.close()"
   ]
  },
  {
   "cell_type": "code",
   "execution_count": 7,
   "metadata": {},
   "outputs": [
    {
     "data": {
      "text/plain": [
       "Discrete(3)"
      ]
     },
     "execution_count": 7,
     "metadata": {},
     "output_type": "execute_result"
    }
   ],
   "source": [
    "env.action_space"
   ]
  },
  {
   "cell_type": "code",
   "execution_count": 8,
   "metadata": {},
   "outputs": [
    {
     "data": {
      "text/plain": [
       "Box(2,)"
      ]
     },
     "execution_count": 8,
     "metadata": {},
     "output_type": "execute_result"
    }
   ],
   "source": [
    "env.observation_space\n"
   ]
  },
  {
   "cell_type": "code",
   "execution_count": 9,
   "metadata": {},
   "outputs": [
    {
     "data": {
      "text/plain": [
       "-110.0"
      ]
     },
     "execution_count": 9,
     "metadata": {},
     "output_type": "execute_result"
    }
   ],
   "source": [
    "env.spec.reward_threshold"
   ]
  },
  {
   "cell_type": "code",
   "execution_count": 10,
   "metadata": {},
   "outputs": [],
   "source": [
    "def policy(obs):\n",
    "    # Write the code for your policy here. You can use the observation\n",
    "    # (a tuple of position and velocity), the current time step, or both,\n",
    "    # if you want.\n",
    "    position, velocity = obs\n",
    "    if velocity > 0:\n",
    "      action = actions['right']\n",
    "    elif velocity < 0:\n",
    "      action = actions['left']\n",
    "    else:\n",
    "      action = actions['left']\n",
    "    # This is an example policy. You can try running it, but it will not work.\n",
    "    # Your goal is to fix that.\n",
    "    return action"
   ]
  },
  {
   "cell_type": "code",
   "execution_count": 11,
   "metadata": {},
   "outputs": [],
   "source": [
    "env = gym.make('MountainCar-v0')\n",
    "env =  gym.wrappers.Monitor(env, './video/', force=True)\n",
    "s = env.reset()\n",
    "actions = {'left': 0, 'stop': 1, 'right': 2}\n",
    "\n",
    "for i in range(1000):\n",
    "    \n",
    "    a = policy(s)\n",
    "    obs, r, done, info = env.step(a)\n",
    "    s = obs\n",
    "    \n",
    "    if done:\n",
    "        break\n",
    "env.close()"
   ]
  },
  {
   "cell_type": "markdown",
   "metadata": {},
   "source": [
    "# Frozen Lake"
   ]
  },
  {
   "cell_type": "code",
   "execution_count": 12,
   "metadata": {},
   "outputs": [],
   "source": [
    "import gym\n",
    "import matplotlib.pyplot as plt\n",
    "import numpy as np\n",
    "import sys\n",
    "env = gym.make('FrozenLake-v0').env\n",
    "sys.stdout = open(\"example.txt\", 'w+')\n",
    "env.render()\n",
    "env.close()"
   ]
  },
  {
   "cell_type": "code",
   "execution_count": 13,
   "metadata": {},
   "outputs": [
    {
     "data": {
      "text/plain": [
       "(Discrete(4), Discrete(16), {'render.modes': ['human', 'ansi']}, (0, 1), 0.78)"
      ]
     },
     "execution_count": 13,
     "metadata": {},
     "output_type": "execute_result"
    }
   ],
   "source": [
    "env.action_space, env.observation_space, env.metadata, env.reward_range, env.spec.reward_threshold"
   ]
  },
  {
   "cell_type": "code",
   "execution_count": 14,
   "metadata": {},
   "outputs": [
    {
     "data": {
      "text/plain": [
       "(4, dtype('int64'))"
      ]
     },
     "execution_count": 14,
     "metadata": {},
     "output_type": "execute_result"
    }
   ],
   "source": [
    "env.action_space.n, env.observation_space.dtype"
   ]
  },
  {
   "cell_type": "code",
   "execution_count": 15,
   "metadata": {},
   "outputs": [],
   "source": [
    "def generate_session(env, policy, t_max=10000):\n",
    "    \n",
    "    actions = []\n",
    "    states = []\n",
    "    reward = 0\n",
    "    \n",
    "    s = env.reset()\n",
    "    \n",
    "    for i in range(t_max):\n",
    "        \n",
    "        a = np.random.choice(range(env.action_space.n), p=policy[s, :])\n",
    "        new_s, r, done, info  = env.step(a)\n",
    "        \n",
    "        actions.append(a)\n",
    "        states.append(s)\n",
    "        reward += r\n",
    "        s = new_s\n",
    "        \n",
    "        if done:\n",
    "            break\n",
    "            \n",
    "    return actions, states, reward"
   ]
  },
  {
   "cell_type": "code",
   "execution_count": 16,
   "metadata": {},
   "outputs": [],
   "source": [
    "def update_policy(actions, states):\n",
    "    \n",
    "    policy_mat = np.zeros((env.observation_space.n, env.action_space.n))\n",
    "    for i, j in zip(actions, states):\n",
    "        policy_mat[j, i] +=1\n",
    "    idx_not_visited = np.argwhere(policy_mat.sum(axis=1) == 0)\n",
    "    policy_mat[idx_not_visited, :] = 1/env.action_space.n\n",
    "    policy_mat = policy_mat/policy_mat.sum(axis=1)[:, np.newaxis]\n",
    "    return policy_mat"
   ]
  },
  {
   "cell_type": "code",
   "execution_count": 1,
   "metadata": {},
   "outputs": [],
   "source": [
    "def select_elite(states, actions, rewards, percentile=50):\n",
    "    \n",
    "    threshold = np.percentile(rewards, percentile)\n",
    "    elite_states = sum([state for reward, state in zip( rewards, states) if reward > threshold], [])\n",
    "    elite_actions = sum([action for reward, action in zip( rewards, actions) if reward > threshold], [])\n",
    "    return elite_states, elite_actions"
   ]
  },
  {
   "cell_type": "code",
   "execution_count": 2,
   "metadata": {},
   "outputs": [],
   "source": [
    "from IPython.display import clear_output\n",
    "\n",
    "def show_progress(rewards_batch, log, percentile, reward_range=[-990, +10]):\n",
    "    \"\"\"\n",
    "    A convenience function that displays training progress. \n",
    "    No cool math here, just charts.\n",
    "    \"\"\"\n",
    "\n",
    "    mean_reward = np.mean(rewards_batch)\n",
    "    threshold = np.percentile(rewards_batch, percentile)\n",
    "    log.append([mean_reward, threshold])\n",
    "    \n",
    "    plt.figure(figsize=[8, 4])\n",
    "    plt.subplot(1, 2, 1)\n",
    "    plt.plot(list(zip(*log))[0], label='Mean rewards')\n",
    "    plt.plot(list(zip(*log))[1], label='Reward thresholds')\n",
    "    plt.legend()\n",
    "    plt.grid()\n",
    "\n",
    "    plt.subplot(1, 2, 2)\n",
    "    plt.hist(rewards_batch, range=reward_range)\n",
    "    plt.vlines([np.percentile(rewards_batch, percentile)],\n",
    "               [0], [100], label=\"percentile\", color='red')\n",
    "    plt.legend()\n",
    "    plt.grid()\n",
    "    clear_output(True)\n",
    "    print(\"mean reward = %.3f, threshold=%.3f\" % (mean_reward, threshold))\n",
    "    plt.savefig(\"frozen_progress.png\")\n",
    "    plt.show()"
   ]
  },
  {
   "cell_type": "code",
   "execution_count": 8,
   "metadata": {
    "scrolled": true
   },
   "outputs": [
    {
     "data": {
      "image/png": "[encoded data removed]",
      "text/plain": [
       "<Figure size 576x288 with 2 Axes>"
      ]
     },
     "metadata": {
      "needs_background": "light"
     },
     "output_type": "display_data"
    }
   ],
   "source": [
    "percentile = 10\n",
    "steps_session = 20000\n",
    "n_sessions = 1000\n",
    "total_steps = 100\n",
    "learning_rate= 0.6\n",
    "\n",
    "env = gym.make('FrozenLake-v0').env\n",
    "policy = np.ones((env.observation_space.n, env.action_space.n))/env.action_space.n\n",
    "\n",
    "log = []\n",
    "\n",
    "for i in range(total_steps):\n",
    "    \n",
    "    sessions = [generate_session(env, policy, steps_session) for j in range(n_sessions)]\n",
    "    \n",
    "    actions, states, rewards = zip(*sessions)\n",
    "    \n",
    "    elite_states, elite_actions = select_elite(states, actions, rewards, percentile)\n",
    "    \n",
    "    new_policy = update_policy(elite_actions, elite_states)\n",
    "    \n",
    "    policy = learning_rate*new_policy + (1-learning_rate)*policy\n",
    "    \n",
    "    show_progress(rewards, log, percentile, reward_range=[0, 1])\n",
    "\n"
   ]
  },
  {
   "cell_type": "code",
   "execution_count": null,
   "metadata": {},
   "outputs": [],
   "source": []
  },
  {
   "cell_type": "code",
   "execution_count": 18,
   "metadata": {},
   "outputs": [],
   "source": [
    "import pickle\n",
    "with open(\"policy.pkl\", \"wb\") as file:\n",
    "    pickle.dump(policy, file)"
   ]
  },
  {
   "cell_type": "code",
   "execution_count": null,
   "metadata": {},
   "outputs": [],
   "source": [
    "env = gym.make('FrozenLake-v0').env\n",
    "env =  gym.wrappers.Monitor(env, './video/', force=True,)\n",
    "s = env.reset()\n",
    "\n",
    "for i in range(1000):\n",
    "    \n",
    "    a = np.random.choice(range(env.action_space.n), p=policy[s, :])\n",
    "    obs, r, done, info = env.step(a)\n",
    "    s = obs\n",
    "    if done:\n",
    "        break\n",
    "env.close()\n",
    "\n"
   ]
  },
  {
   "cell_type": "code",
   "execution_count": null,
   "metadata": {},
   "outputs": [],
   "source": [
    "env.render()"
   ]
  },
  {
   "cell_type": "markdown",
   "metadata": {},
   "source": [
    "# Lunar Lander"
   ]
  },
  {
   "cell_type": "code",
   "execution_count": 21,
   "metadata": {},
   "outputs": [],
   "source": [
    "import gym\n",
    "from sklearn import neural_network\n",
    "from joblib import delayed, Parallel\n",
    "from multiprocessing import cpu_count"
   ]
  },
  {
   "cell_type": "code",
   "execution_count": 22,
   "metadata": {},
   "outputs": [
    {
     "data": {
      "text/plain": [
       "True"
      ]
     },
     "execution_count": 22,
     "metadata": {},
     "output_type": "execute_result"
    }
   ],
   "source": [
    "env = gym.make('LunarLander-v2').env\n",
    "env.render()\n"
   ]
  },
  {
   "cell_type": "code",
   "execution_count": 23,
   "metadata": {},
   "outputs": [],
   "source": [
    "env.close()"
   ]
  },
  {
   "cell_type": "code",
   "execution_count": 24,
   "metadata": {},
   "outputs": [
    {
     "data": {
      "text/plain": [
       "(Discrete(4), False, False, 8.0, Box(8,), (-inf, inf), 200)"
      ]
     },
     "execution_count": 24,
     "metadata": {},
     "output_type": "execute_result"
    }
   ],
   "source": [
    "env.action_space, env.game_over, env.continuous, env.helipad_x1, env.observation_space, env.reward_range, env.spec.reward_threshold"
   ]
  },
  {
   "cell_type": "code",
   "execution_count": 32,
   "metadata": {},
   "outputs": [
    {
     "data": {
      "text/plain": [
       "(8,)"
      ]
     },
     "execution_count": 32,
     "metadata": {},
     "output_type": "execute_result"
    }
   ],
   "source": [
    "env.observation_space."
   ]
  },
  {
   "cell_type": "code",
   "execution_count": 40,
   "metadata": {},
   "outputs": [],
   "source": [
    "n_actions = env.action_space.n"
   ]
  },
  {
   "cell_type": "code",
   "execution_count": 51,
   "metadata": {},
   "outputs": [],
   "source": [
    "def generate_session(env, agent, t_max=1000):\n",
    "\n",
    "    states, actions = [], []\n",
    "    total_reward = 0\n",
    "\n",
    "    s = env.reset()\n",
    "\n",
    "    for t in range(t_max):\n",
    "        \n",
    "        probs = agent.predict_proba(s.reshape(1, -1)).squeeze()#<YOUR CODE>\n",
    "        a = np.random.choice(range(n_actions), size=None, p=probs) #<YOUR CODE>\n",
    "        new_s, r, done, info = env.step(a)\n",
    "\n",
    "        states.append(s)\n",
    "        actions.append(a)\n",
    "        total_reward += r\n",
    "\n",
    "        s = new_s\n",
    "        if done:\n",
    "            break\n",
    "    return actions, states, total_reward"
   ]
  },
  {
   "cell_type": "code",
   "execution_count": 55,
   "metadata": {},
   "outputs": [
    {
     "data": {
      "image/png": "[encoded data removed]",
      "text/plain": [
       "<Figure size 576x288 with 2 Axes>"
      ]
     },
     "metadata": {
      "needs_background": "light"
     },
     "output_type": "display_data"
    }
   ],
   "source": [
    "percentile = 50\n",
    "steps_session = 2000\n",
    "n_sessions = 100\n",
    "total_steps = 100\n",
    "\n",
    "env = gym.make('LunarLander-v2').env\n",
    "mlp = neural_network.MLPClassifier((128, 64), activation='tanh', learning_rate_init=0.001)\n",
    "mlp.partial_fit([env.reset()]*n_actions, range(n_actions), range(n_actions))\n",
    "log = []\n",
    "\n",
    "for i in range(total_steps):\n",
    "    \n",
    "    sessions = Parallel(n_jobs=cpu_count())(delayed(generate_session)(env, mlp, steps_session) for j in range(n_sessions))\n",
    "    actions, states, rewards = zip(*sessions)\n",
    "    \n",
    "    elite_states, elite_actions = select_elite(states, actions, rewards, percentile)\n",
    "    mlp.partial_fit(elite_states, np.asarray(elite_actions).reshape(-1, 1))\n",
    "    \n",
    "    show_progress(rewards, log, percentile, reward_range=[-500, 400])\n"
   ]
  },
  {
   "cell_type": "code",
   "execution_count": 56,
   "metadata": {},
   "outputs": [],
   "source": [
    "env = gym.make('LunarLander-v2')\n",
    "env =  gym.wrappers.Monitor(env, './video_lander/', force=True)\n",
    "s = env.reset()\n",
    "\n",
    "for i in range(1000):\n",
    "    \n",
    "    probs = mlp.predict_proba(s.reshape(1, -1)).squeeze()#<YOUR CODE>\n",
    "    a = np.random.choice(range(n_actions), size=None, p=probs) #<YOUR CODE>\n",
    "    obs, r, done, info = env.step(a)\n",
    "    s = obs\n",
    "    \n",
    "    if done:\n",
    "        break\n",
    "env.close()"
   ]
  },
  {
   "cell_type": "code",
   "execution_count": 61,
   "metadata": {},
   "outputs": [],
   "source": [
    "env = gym.make('LunarLander-v2')\n",
    "env =  gym.wrappers.Monitor(env, './video_landerr_bad/', force=True)\n",
    "s = env.reset()\n",
    "\n",
    "for i in range(1000):\n",
    "\n",
    "    a = env.action_space.sample()\n",
    "    obs, r, done, info = env.step(a)\n",
    "    s = obs\n",
    "    \n",
    "    if done:\n",
    "        break\n",
    "env.close()"
   ]
  },
  {
   "cell_type": "code",
   "execution_count": null,
   "metadata": {},
   "outputs": [],
   "source": []
  },
  {
   "cell_type": "code",
   "execution_count": null,
   "metadata": {},
   "outputs": [],
   "source": []
  }
 ],
 "metadata": {
  "kernelspec": {
   "display_name": "Python 3",
   "language": "python",
   "name": "python3"
  },
  "language_info": {
   "codemirror_mode": {
    "name": "ipython",
    "version": 3
   },
   "file_extension": ".py",
   "mimetype": "text/x-python",
   "name": "python",
   "nbconvert_exporter": "python",
   "pygments_lexer": "ipython3",
   "version": "3.6.10"
  }
 },
 "nbformat": 4,
 "nbformat_minor": 4
}
